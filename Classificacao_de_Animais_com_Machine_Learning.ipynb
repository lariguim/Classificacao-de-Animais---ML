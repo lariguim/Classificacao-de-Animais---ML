{
  "nbformat": 4,
  "nbformat_minor": 0,
  "metadata": {
    "colab": {
      "name": "Classificacao de Animais com Machine Learning",
      "provenance": [],
      "collapsed_sections": [],
      "authorship_tag": "ABX9TyM3+SQZTZTsyslAfCwsLwxl",
      "include_colab_link": true
    },
    "kernelspec": {
      "name": "python3",
      "display_name": "Python 3"
    },
    "language_info": {
      "name": "python"
    }
  },
  "cells": [
    {
      "cell_type": "markdown",
      "metadata": {
        "id": "view-in-github",
        "colab_type": "text"
      },
      "source": [
        "<a href=\"https://colab.research.google.com/github/lariguim/Classificacao-de-Animais---ML/blob/main/Classificacao_de_Animais_com_Machine_Learning.ipynb\" target=\"_parent\"><img src=\"https://colab.research.google.com/assets/colab-badge.svg\" alt=\"Open In Colab\"/></a>"
      ]
    },
    {
      "cell_type": "markdown",
      "metadata": {
        "id": "YKHVwVqNygzx"
      },
      "source": [
        "# CLASSIFICACAO DE ANIMAIS (PORCOS E CACHORROS) com MACHINE LEARNING"
      ]
    },
    {
      "cell_type": "markdown",
      "metadata": {
        "id": "N_x105gpyZAS"
      },
      "source": [
        "Temos duas tabelas que comportam porcos e cachorros, estes serão os nossos dados. Sabemos qual classe pertence da um desses dados, isto é, temos a classe \"porco\", que atribuiremos o valor 1, e a classe \"cachorro\", com o valor 0."
      ]
    },
    {
      "cell_type": "markdown",
      "metadata": {
        "id": "ckW6U_Z_zBUj"
      },
      "source": [
        "Tenho três características: pelo curto ou longo, se as pernas são curtas ou longas, e se o animal emite ou não o som \"au-au\". Para cada uma das features, 1= sim e 0= não.\n",
        "\n",
        "O animal porco1 possui pelo curto, perna curta, e não emite o som \"au-au\", então teremos valores [0, 1, 0]. Já porco2 possui pelo curto, perna curta, mas emite o som \"au-au\", logo os valores serão [0,1,1]. Por fim teremos porco3 com o conjunto de valores [1, 1, 0]\n",
        "Apliquei  a mesma metodologia para cachorros. Tenho cachorro1 com um conjunto de valores [0, 1, 1], cachorro2 com [1, 0, 1] e cachorro3 possui [1, 1, 1]."
      ]
    },
    {
      "cell_type": "code",
      "metadata": {
        "id": "mvNZIwUsmSc3"
      },
      "source": [
        "#Features (CARACTERISTICAS) (1 sim, 0 nao)\n",
        "#longo?\n",
        "#perna curta?\n",
        "#faz auau?\n",
        "porco1 = [0,1,0]\n",
        "porco2 = [0,1,1]\n",
        "porco3 = [1,1,0]\n",
        "\n",
        "cachorro1 = [0,1,1]\n",
        "cachorro2 = [1,0,1]\n",
        "cachorro3 = [1,1,1]\n",
        "\n",
        "# 1=> porco, 0=> cachorro\n",
        "dados = [porco1, porco2, porco3, cachorro1, cachorro2, cachorro3]\n",
        "classes = [1,1,1,0,0,0]\n"
      ],
      "execution_count": 1,
      "outputs": []
    },
    {
      "cell_type": "markdown",
      "metadata": {
        "id": "eVAPPmmTzfMp"
      },
      "source": [
        "Tenho agora duas tabelas que comportam porcos e cachorros, estes serão os meus dados. Ja sei qual classe pertence cada um desses dados, isto é, temos a classe porco\", que atribuiremos o valor 1, e a classe \"cachorro\", com o valor 0.\n",
        "Iniciei uma classe que possibilita a criação de um modelo. Inicei esse estimador (recebendo o nome model), e solicitei que ele analise a aprenda com os dados que disponibilizei. Assim como um ser humano aprende sobre a classificação dos objetos no mundo de forma supervisionada, o modelo tentará adaptar sua lógica de pensamento com base nos dados."
      ]
    },
    {
      "cell_type": "code",
      "metadata": {
        "colab": {
          "base_uri": "https://localhost:8080/"
        },
        "id": "QEORaz-hmYl6",
        "outputId": "9e51622a-15c0-41d1-e4b1-0b86e1aa87d3"
      },
      "source": [
        "\n",
        "from sklearn.svm import LinearSVC\n",
        "\n",
        "model = LinearSVC()\n",
        "model.fit(dados, classes)\n",
        "\n",
        "\n"
      ],
      "execution_count": 8,
      "outputs": [
        {
          "output_type": "execute_result",
          "data": {
            "text/plain": [
              "LinearSVC(C=1.0, class_weight=None, dual=True, fit_intercept=True,\n",
              "          intercept_scaling=1, loss='squared_hinge', max_iter=1000,\n",
              "          multi_class='ovr', penalty='l2', random_state=None, tol=0.0001,\n",
              "          verbose=0)"
            ]
          },
          "metadata": {
            "tags": []
          },
          "execution_count": 8
        }
      ]
    },
    {
      "cell_type": "markdown",
      "metadata": {
        "id": "nGJMobuJ0rgv"
      },
      "source": [
        "Agora dicionaremos um animal_misterioso, isto é, um ainda não identificado, com o valor [1,1,1] (com pelo logo, patas longas e emite o som \"au-au\"). A ideia é descobrir qual é a opinião do nosso modelo a respeto da categorização deste animal. "
      ]
    },
    {
      "cell_type": "code",
      "metadata": {
        "colab": {
          "base_uri": "https://localhost:8080/"
        },
        "id": "DjFjr4CWngOv",
        "outputId": "35f12bbb-10a0-4c6e-9c77-08255435b37b"
      },
      "source": [
        "animal_misterioso = [1,1,1]\n",
        "model.predict([animal_misterioso])\n",
        "          "
      ],
      "execution_count": 9,
      "outputs": [
        {
          "output_type": "execute_result",
          "data": {
            "text/plain": [
              "array([0])"
            ]
          },
          "metadata": {
            "tags": []
          },
          "execution_count": 9
        }
      ]
    },
    {
      "cell_type": "markdown",
      "metadata": {
        "id": "gpIiPmga1C1C"
      },
      "source": [
        "Podemos fazer o mesmo procedimento com diversos animais: criaremos misterio1 , misterio2 e misterio3 cujos valores serão, respectivamente, [1,1,1],[1,1,0] e [0,1,1]. Tratei todos esses casos como teste."
      ]
    },
    {
      "cell_type": "code",
      "metadata": {
        "colab": {
          "base_uri": "https://localhost:8080/"
        },
        "id": "vYCzd71Ev4ap",
        "outputId": "50759e05-2f1b-4d83-b33c-71d2e9972eaa"
      },
      "source": [
        "misterio1 = [1,1,1]\n",
        "misterio2 = [1,1,0]\n",
        "misterio3 = [0,1,1]\n",
        "\n",
        "testes = [misterio1, misterio2, misterio3]\n",
        "model.predict(testes)"
      ],
      "execution_count": 14,
      "outputs": [
        {
          "output_type": "execute_result",
          "data": {
            "text/plain": [
              "array([0, 1, 0])"
            ]
          },
          "metadata": {
            "tags": []
          },
          "execution_count": 14
        }
      ]
    },
    {
      "cell_type": "markdown",
      "metadata": {
        "id": "te1jD83C1knw"
      },
      "source": [
        "Ao executarmos o código, teremos como resultado ([0, 1, 0]), isto é, cachorro, porco e cachorro. Mas, na verdade, esses animais já tinham uma classe definida que não foi revelada antes do teste: se tratavam de um cachorro e dois porcos ([0,1,1]). Neste caso, o algorítimo errou 1 de 3. Qual sua taxa de acerto então?"
      ]
    },
    {
      "cell_type": "code",
      "metadata": {
        "colab": {
          "base_uri": "https://localhost:8080/"
        },
        "id": "4NKuO2BFwSao",
        "outputId": "fb119b8a-2493-40e6-de7e-ab73a7786178"
      },
      "source": [
        "previsoes == testes_classes"
      ],
      "execution_count": 15,
      "outputs": [
        {
          "output_type": "execute_result",
          "data": {
            "text/plain": [
              "array([ True,  True, False])"
            ]
          },
          "metadata": {
            "tags": []
          },
          "execution_count": 15
        }
      ]
    },
    {
      "cell_type": "code",
      "metadata": {
        "id": "gcNPHNcwxEXC"
      },
      "source": [
        "corretos = (previsoes == testes_classes).sum()"
      ],
      "execution_count": 16,
      "outputs": []
    },
    {
      "cell_type": "code",
      "metadata": {
        "colab": {
          "base_uri": "https://localhost:8080/"
        },
        "id": "fwgXGDFYx0jt",
        "outputId": "a67dde27-8ae1-4064-f815-999bf6b50b2e"
      },
      "source": [
        "corretos = (previsoes == testes_classes).sum()\n",
        "total = len(testes)\n",
        "taxa_de_acerto = corretos/total\n",
        "print(\"Taxa de acerto \", taxa_de_acerto)"
      ],
      "execution_count": 17,
      "outputs": [
        {
          "output_type": "stream",
          "text": [
            "Taxa de acerto  0.6666666666666666\n"
          ],
          "name": "stdout"
        }
      ]
    },
    {
      "cell_type": "markdown",
      "metadata": {
        "id": "qlhyqXne10GY"
      },
      "source": [
        "Na tela, temos o resultado Taxa de acerto: 0.666666666666666. Como gostaríamos de analisar esse número em termos de porcentagem, multiplicaremos esse valor por 100:"
      ]
    },
    {
      "cell_type": "code",
      "metadata": {
        "colab": {
          "base_uri": "https://localhost:8080/"
        },
        "id": "lepaTI09x_ar",
        "outputId": "45fd25fb-94c5-4ad3-9ce4-5905bc68d08d"
      },
      "source": [
        "corretos = (previsoes == testes_classes).sum()\n",
        "total = len(testes)\n",
        "taxa_de_acerto = corretos/total\n",
        "print(\"Taxa de acerto \", taxa_de_acerto *100)"
      ],
      "execution_count": 18,
      "outputs": [
        {
          "output_type": "stream",
          "text": [
            "Taxa de acerto  66.66666666666666\n"
          ],
          "name": "stdout"
        }
      ]
    },
    {
      "cell_type": "markdown",
      "metadata": {
        "id": "nhKf3P141_qX"
      },
      "source": [
        "Nosso resultado passará a ser 66.66 como taxa de acerto.\n",
        "\n",
        "Temos um modelo que foi treinado com os dados e imprimimos a taxa de acerto."
      ]
    },
    {
      "cell_type": "markdown",
      "metadata": {
        "id": "S3b2SZrf4nuC"
      },
      "source": [
        "Em nosso caso, estipularemos que taxa_de_acerto será a nota atribuída pelo accuracy_score, que receberá como parâmetros primeiramente os valores verdadeiros e depois os previstos, como podemos verificar na documentação. Logo:"
      ]
    },
    {
      "cell_type": "code",
      "metadata": {
        "colab": {
          "base_uri": "https://localhost:8080/"
        },
        "id": "DXHnIj2RyOt_",
        "outputId": "a65935b9-55df-4515-c11a-52c99ee62b3a"
      },
      "source": [
        "\n",
        "from sklearn.metrics import accuracy_score\n",
        "\n",
        "taxa_de_acerto = accuracy_score(testes_classes, previsoes)\n",
        "print(\"Taxa de acerto\", taxa_de_acerto * 100)"
      ],
      "execution_count": 19,
      "outputs": [
        {
          "output_type": "stream",
          "text": [
            "Taxa de acerto 66.66666666666666\n"
          ],
          "name": "stdout"
        }
      ]
    },
    {
      "cell_type": "code",
      "metadata": {
        "id": "qSIzhTxN4slC"
      },
      "source": [
        ""
      ],
      "execution_count": null,
      "outputs": []
    }
  ]
}